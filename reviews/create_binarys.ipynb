{
 "cells": [
  {
   "cell_type": "code",
   "execution_count": 83,
   "metadata": {},
   "outputs": [
    {
     "name": "stdout",
     "output_type": "stream",
     "text": [
      "Index(['submission_date', 'reviewer_id', 'product_id', 'product_name',\n",
      "       'product_brand', 'site_category_lv1', 'site_category_lv2',\n",
      "       'review_title', 'overall_rating', 'recommend_to_a_friend',\n",
      "       'review_text', 'reviewer_birth_year', 'reviewer_gender',\n",
      "       'reviewer_state'],\n",
      "      dtype='object')\n"
     ]
    },
    {
     "name": "stderr",
     "output_type": "stream",
     "text": [
      "C:\\Users\\samir\\AppData\\Local\\Temp\\ipykernel_23208\\1130710681.py:11: DtypeWarning: Columns (2) have mixed types. Specify dtype option on import or set low_memory=False.\n",
      "  df = pd.read_csv(PATH)\n"
     ]
    },
    {
     "data": {
      "text/plain": [
       "sentiment\n",
       "positive    80300\n",
       "negative    35758\n",
       "neutral     16315\n",
       "Name: count, dtype: int64"
      ]
     },
     "execution_count": 83,
     "metadata": {},
     "output_type": "execute_result"
    }
   ],
   "source": [
    "import os\n",
    "import spacy\n",
    "import pandas as pd\n",
    "from spacy.tokens import DocBin\n",
    "\n",
    "\n",
    "FILE = 'B2W-Reviews01.csv'\n",
    "\n",
    "PATH = os.path.join(os.path.abspath(''), FILE)\n",
    "\n",
    "df = pd.read_csv(PATH)\n",
    "\n",
    "#mostrar quais colunas existem no dataset\n",
    "print(df.columns)\n",
    "\n",
    "#manter apenas as colunnas  review_text e overall_rating\n",
    "df = df[['review_text', 'overall_rating']]\n",
    "\n",
    "#renomear as colunas para text e sentiment\n",
    "df.columns = ['text', 'sentiment']\n",
    "\n",
    "#trocar os valores quando for 1 e 2 sera negative, 3 sera neutral  e 4 e 5 sera positive\n",
    "df['sentiment'] = df['sentiment'].apply(lambda x: 'negative' if x < 3 else 'neutral' if x == 3 else 'positive')\n",
    "\n",
    "#Conta a frequência de cada valor único presente na coluna 'sentiment'\n",
    "df['sentiment'].value_counts()"
   ]
  },
  {
   "cell_type": "code",
   "execution_count": 84,
   "metadata": {},
   "outputs": [
    {
     "data": {
      "text/html": [
       "<div>\n",
       "<style scoped>\n",
       "    .dataframe tbody tr th:only-of-type {\n",
       "        vertical-align: middle;\n",
       "    }\n",
       "\n",
       "    .dataframe tbody tr th {\n",
       "        vertical-align: top;\n",
       "    }\n",
       "\n",
       "    .dataframe thead th {\n",
       "        text-align: right;\n",
       "    }\n",
       "</style>\n",
       "<table border=\"1\" class=\"dataframe\">\n",
       "  <thead>\n",
       "    <tr style=\"text-align: right;\">\n",
       "      <th></th>\n",
       "      <th>text</th>\n",
       "      <th>sentiment</th>\n",
       "    </tr>\n",
       "  </thead>\n",
       "  <tbody>\n",
       "    <tr>\n",
       "      <th>0</th>\n",
       "      <td>Estou contente com a compra entrega rápida o ú...</td>\n",
       "      <td>positive</td>\n",
       "    </tr>\n",
       "    <tr>\n",
       "      <th>1</th>\n",
       "      <td>Por apenas R$1994.20,eu consegui comprar esse ...</td>\n",
       "      <td>positive</td>\n",
       "    </tr>\n",
       "    <tr>\n",
       "      <th>2</th>\n",
       "      <td>SUPERA EM AGILIDADE E PRATICIDADE OUTRAS PANEL...</td>\n",
       "      <td>positive</td>\n",
       "    </tr>\n",
       "    <tr>\n",
       "      <th>3</th>\n",
       "      <td>MEU FILHO AMOU! PARECE DE VERDADE COM TANTOS D...</td>\n",
       "      <td>positive</td>\n",
       "    </tr>\n",
       "    <tr>\n",
       "      <th>4</th>\n",
       "      <td>A entrega foi no prazo, as americanas estão de...</td>\n",
       "      <td>positive</td>\n",
       "    </tr>\n",
       "    <tr>\n",
       "      <th>...</th>\n",
       "      <td>...</td>\n",
       "      <td>...</td>\n",
       "    </tr>\n",
       "    <tr>\n",
       "      <th>132368</th>\n",
       "      <td>Vale muito, estou usando no controle do Xbox e...</td>\n",
       "      <td>positive</td>\n",
       "    </tr>\n",
       "    <tr>\n",
       "      <th>132369</th>\n",
       "      <td>Prático e barato, super indico o produto para ...</td>\n",
       "      <td>positive</td>\n",
       "    </tr>\n",
       "    <tr>\n",
       "      <th>132370</th>\n",
       "      <td>Chegou antes do prazo previsto e corresponde a...</td>\n",
       "      <td>positive</td>\n",
       "    </tr>\n",
       "    <tr>\n",
       "      <th>132371</th>\n",
       "      <td>Material fraco, poderia ser melhor. Ficou deve...</td>\n",
       "      <td>negative</td>\n",
       "    </tr>\n",
       "    <tr>\n",
       "      <th>132372</th>\n",
       "      <td>Comprei esse produto, quando chegou estava com...</td>\n",
       "      <td>negative</td>\n",
       "    </tr>\n",
       "  </tbody>\n",
       "</table>\n",
       "<p>132373 rows × 2 columns</p>\n",
       "</div>"
      ],
      "text/plain": [
       "                                                     text sentiment\n",
       "0       Estou contente com a compra entrega rápida o ú...  positive\n",
       "1       Por apenas R$1994.20,eu consegui comprar esse ...  positive\n",
       "2       SUPERA EM AGILIDADE E PRATICIDADE OUTRAS PANEL...  positive\n",
       "3       MEU FILHO AMOU! PARECE DE VERDADE COM TANTOS D...  positive\n",
       "4       A entrega foi no prazo, as americanas estão de...  positive\n",
       "...                                                   ...       ...\n",
       "132368  Vale muito, estou usando no controle do Xbox e...  positive\n",
       "132369  Prático e barato, super indico o produto para ...  positive\n",
       "132370  Chegou antes do prazo previsto e corresponde a...  positive\n",
       "132371  Material fraco, poderia ser melhor. Ficou deve...  negative\n",
       "132372  Comprei esse produto, quando chegou estava com...  negative\n",
       "\n",
       "[132373 rows x 2 columns]"
      ]
     },
     "execution_count": 84,
     "metadata": {},
     "output_type": "execute_result"
    }
   ],
   "source": [
    "df"
   ]
  },
  {
   "cell_type": "code",
   "execution_count": 85,
   "metadata": {},
   "outputs": [
    {
     "name": "stderr",
     "output_type": "stream",
     "text": [
      "C:\\Users\\samir\\AppData\\Local\\Temp\\ipykernel_23208\\3849543489.py:3: DeprecationWarning: DataFrameGroupBy.apply operated on the grouping columns. This behavior is deprecated, and in a future version of pandas the grouping columns will be excluded from the operation. Either pass `include_groups=False` to exclude the groupings or explicitly select the grouping columns after groupby to silence this warning.\n",
      "  df = df.groupby('sentiment').apply(lambda x: x.sample(8361 // 3)).reset_index(drop=True)\n"
     ]
    },
    {
     "data": {
      "text/plain": [
       "sentiment\n",
       "negative    2787\n",
       "neutral     2787\n",
       "positive    2787\n",
       "Name: count, dtype: int64"
      ]
     },
     "execution_count": 85,
     "metadata": {},
     "output_type": "execute_result"
    }
   ],
   "source": [
    "# diminuir o tamanho do dataset para 8361 mas manter a proporção de sentimentos, se tiver text nulo remover\n",
    "df = df.dropna(subset=['text'])\n",
    "df = df.groupby('sentiment').apply(lambda x: x.sample(8361 // 3)).reset_index(drop=True)\n",
    "\n",
    "df['sentiment'].value_counts()\n",
    "\n",
    "# #diminuir o tamanho do dataset para 8361, e nao deixar registros text nulo\n",
    "# df = df.dropna(subset=['text'])\n",
    "# df = df.sample(n=8361, random_state=1)\n"
   ]
  },
  {
   "cell_type": "code",
   "execution_count": 86,
   "metadata": {},
   "outputs": [
    {
     "data": {
      "text/plain": [
       "sentiment\n",
       "negative    2787\n",
       "neutral     2787\n",
       "positive    2787\n",
       "Name: count, dtype: int64"
      ]
     },
     "execution_count": 86,
     "metadata": {},
     "output_type": "execute_result"
    }
   ],
   "source": [
    "#verificar se a coluna text possui valores nulos\n",
    "df['text'].isnull().sum()\n",
    "df['sentiment'].value_counts()"
   ]
  },
  {
   "cell_type": "markdown",
   "metadata": {},
   "source": [
    "O DataFrame df é agrupado pela coluna sentiment, que contém os rótulos de sentimento (por exemplo, 'positive', 'negative', 'neutral').\n",
    "Para garantir que o conjunto de treino seja balanceado (ou seja, tenha um número igual de instâncias de cada classe de sentimento), o código amostra um número igual de instâncias de cada grupo.\n",
    "O tamanho da amostra é definido como o tamanho mínimo dos grupos menos 49. Isso é feito para evitar que o grupo menor seja subamostrado demais.\n",
    "O parâmetro random_state=25 é usado para garantir que a amostragem seja reprodutível, ou seja, que a mesma amostra seja obtida toda vez que o código for executado."
   ]
  },
  {
   "cell_type": "code",
   "execution_count": 87,
   "metadata": {},
   "outputs": [
    {
     "name": "stdout",
     "output_type": "stream",
     "text": [
      "Index([   0,    6,   10,   11,   14,   20,   22,   23,   25,   26,\n",
      "       ...\n",
      "       8331, 8332, 8336, 8340, 8341, 8342, 8349, 8355, 8357, 8359],\n",
      "      dtype='int64', length=2400)\n",
      "Index([1527,  999, 1400,  616, 1868,  598,  899, 1367, 2321,  894,\n",
      "       ...\n",
      "       5892, 8003, 8347, 7244, 6573, 5993, 8299, 7638, 8175, 6284],\n",
      "      dtype='int64', length=5961)\n",
      "(5961, 2) (2400, 2)\n",
      "sentiment\n",
      "negative    1987\n",
      "neutral     1987\n",
      "positive    1987\n",
      "Name: count, dtype: int64\n",
      "sentiment\n",
      "negative    800\n",
      "neutral     800\n",
      "positive    800\n",
      "Name: count, dtype: int64\n"
     ]
    }
   ],
   "source": [
    "train = df.groupby('sentiment').sample(df.groupby('sentiment').size().min()-800, random_state = 25)\n",
    "test = df.drop(train.index)\n",
    "\n",
    "print(test.index)\n",
    "print(train.index)\n",
    "\n",
    "print(train.shape, test.shape)\n",
    "\n",
    "print(train['sentiment'].value_counts())\n",
    "print(test['sentiment'].value_counts())"
   ]
  },
  {
   "cell_type": "code",
   "execution_count": 88,
   "metadata": {},
   "outputs": [
    {
     "name": "stdout",
     "output_type": "stream",
     "text": [
      "Treino: 0.7129529960531037\n",
      "Teste: 0.2870470039468963\n"
     ]
    }
   ],
   "source": [
    "#calcular a porcentagem total de quantidade para treino e teste, sem considerar a coluna 'sentiment'\n",
    "print('Treino:', train.shape[0]/df.shape[0])\n",
    "print('Teste:', test.shape[0]/df.shape[0])"
   ]
  },
  {
   "cell_type": "code",
   "execution_count": 89,
   "metadata": {},
   "outputs": [
    {
     "data": {
      "text/plain": [
       "('Recebi somente um cartucho colorido, os outros a empresa parceira e as Americanas não responderam a minha queixa.  Devido a essa situação, não usei o cartucho, pois não sei se farei a devolução.',\n",
       " 'negative')"
      ]
     },
     "execution_count": 89,
     "metadata": {},
     "output_type": "execute_result"
    }
   ],
   "source": [
    "# transforma os DataFrames train e test em listas de tuplas, onde cada tupla contém o texto e o sentimento correspondente\n",
    "train['tuples'] = train.apply(lambda row: (row['text'],row['sentiment']), axis=1)\n",
    "train = train['tuples'].tolist()\n",
    "test['tuples'] = test.apply(lambda row: (row['text'],row['sentiment']), axis=1)\n",
    "test = test['tuples'].tolist()\n",
    "train[0]"
   ]
  },
  {
   "cell_type": "code",
   "execution_count": 90,
   "metadata": {},
   "outputs": [],
   "source": [
    "# User function for converting the train and test dataset into spaCy document\n",
    "\n",
    "nlp=spacy.load(\"pt_core_news_lg\")\n",
    "def document(data):\n",
    "#Creating empty list called \"text\"\n",
    "  text = []\n",
    "  for doc, label in nlp.pipe(data, as_tuples = True):\n",
    "    if (label=='positive'):\n",
    "      doc.cats['positive'] = 1\n",
    "      doc.cats['negative'] = 0\n",
    "      doc.cats['neutral']  = 0\n",
    "    elif (label=='negative'):\n",
    "      doc.cats['positive'] = 0\n",
    "      doc.cats['negative'] = 1\n",
    "      doc.cats['neutral']  = 0\n",
    "    else:\n",
    "      doc.cats['positive'] = 0\n",
    "      doc.cats['negative'] = 0\n",
    "      doc.cats['neutral']  = 1\n",
    "    #Adding the doc into the list 'text'\n",
    "    text.append(doc)\n",
    "  return(text)"
   ]
  },
  {
   "cell_type": "code",
   "execution_count": 91,
   "metadata": {},
   "outputs": [],
   "source": [
    "#passing the train dataset into function 'document'\n",
    "train_docs = document(train)\n",
    "test_docs = document(test)\n",
    "\n",
    "#Creating binary document using DocBin function in spaCy\n",
    "doc_bin_train = DocBin(docs = train_docs)\n",
    "doc_bin_test = DocBin(docs = test_docs)\n",
    "\n",
    "#Saving the binary document as train.spacy\n",
    "doc_bin_train.to_disk(\"train.spacy\")\n",
    "doc_bin_test.to_disk(\"test.spacy\")"
   ]
  }
 ],
 "metadata": {
  "kernelspec": {
   "display_name": "venv-am",
   "language": "python",
   "name": "python3"
  },
  "language_info": {
   "codemirror_mode": {
    "name": "ipython",
    "version": 3
   },
   "file_extension": ".py",
   "mimetype": "text/x-python",
   "name": "python",
   "nbconvert_exporter": "python",
   "pygments_lexer": "ipython3",
   "version": "3.9.12"
  }
 },
 "nbformat": 4,
 "nbformat_minor": 2
}
