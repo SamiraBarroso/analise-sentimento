{
 "cells": [
  {
   "cell_type": "code",
   "execution_count": 2,
   "metadata": {},
   "outputs": [],
   "source": [
    "import os\n",
    "import spacy\n",
    "\n",
    "PATH = os.path.join(os.path.abspath(''), 'output/model-best')"
   ]
  },
  {
   "cell_type": "code",
   "execution_count": 3,
   "metadata": {},
   "outputs": [
    {
     "name": "stderr",
     "output_type": "stream",
     "text": [
      "c:\\Users\\samir\\Documents\\Analise Sentimento\\venv-am\\lib\\site-packages\\tqdm\\auto.py:21: TqdmWarning: IProgress not found. Please update jupyter and ipywidgets. See https://ipywidgets.readthedocs.io/en/stable/user_install.html\n",
      "  from .autonotebook import tqdm as notebook_tqdm\n",
      "c:\\Users\\samir\\Documents\\Analise Sentimento\\venv-am\\lib\\site-packages\\transformers\\utils\\generic.py:441: FutureWarning: `torch.utils._pytree._register_pytree_node` is deprecated. Please use `torch.utils._pytree.register_pytree_node` instead.\n",
      "  _torch_pytree._register_pytree_node(\n",
      "c:\\Users\\samir\\Documents\\Analise Sentimento\\venv-am\\lib\\site-packages\\transformers\\utils\\generic.py:309: FutureWarning: `torch.utils._pytree._register_pytree_node` is deprecated. Please use `torch.utils._pytree.register_pytree_node` instead.\n",
      "  _torch_pytree._register_pytree_node(\n",
      "c:\\Users\\samir\\Documents\\Analise Sentimento\\venv-am\\lib\\site-packages\\transformers\\utils\\generic.py:309: FutureWarning: `torch.utils._pytree._register_pytree_node` is deprecated. Please use `torch.utils._pytree.register_pytree_node` instead.\n",
      "  _torch_pytree._register_pytree_node(\n",
      "c:\\Users\\samir\\Documents\\Analise Sentimento\\venv-am\\lib\\site-packages\\spacy_transformers\\layers\\hf_shim.py:124: FutureWarning: You are using `torch.load` with `weights_only=False` (the current default value), which uses the default pickle module implicitly. It is possible to construct malicious pickle data which will execute arbitrary code during unpickling (See https://github.com/pytorch/pytorch/blob/main/SECURITY.md#untrusted-models for more details). In a future release, the default value for `weights_only` will be flipped to `True`. This limits the functions that could be executed during unpickling. Arbitrary objects will no longer be allowed to be loaded via this mode unless they are explicitly allowlisted by the user via `torch.serialization.add_safe_globals`. We recommend you start setting `weights_only=True` for any use case where you don't have full control of the loaded file. Please open an issue on GitHub for any issues related to this experimental feature.\n",
      "  self._model.load_state_dict(torch.load(filelike, map_location=device))\n",
      "c:\\Users\\samir\\Documents\\Analise Sentimento\\venv-am\\lib\\site-packages\\thinc\\shims\\pytorch.py:114: FutureWarning: `torch.cuda.amp.autocast(args...)` is deprecated. Please use `torch.amp.autocast('cuda', args...)` instead.\n",
      "  with torch.cuda.amp.autocast(self._mixed_precision):\n"
     ]
    },
    {
     "name": "stdout",
     "output_type": "stream",
     "text": [
      "{'positive': 0.006727618630975485, 'negative': 0.8294786214828491, 'neutral': 0.16379375755786896}\n",
      "neutral\n"
     ]
    }
   ],
   "source": [
    "text = \"acesso o link do eduroam para configurar no seu computador\"\n",
    "\n",
    "nlp = spacy.load(PATH)\n",
    "demo = nlp(text)\n",
    "cats = demo.cats\n",
    "\n",
    "print(cats)\n",
    "\n",
    "if cats['positive'] > cats['negative'] and cats['positive'] > cats['neutral']:\n",
    "    print('positive')\n",
    "elif cats['negative'] > cats['negative']:\n",
    "    print('negative')\n",
    "else:\n",
    "    print('neutral')"
   ]
  },
  {
   "cell_type": "code",
   "execution_count": 7,
   "metadata": {},
   "outputs": [
    {
     "name": "stdout",
     "output_type": "stream",
     "text": [
      "{'positive': 0.0018120650202035904, 'negative': 0.992743730545044, 'neutral': 0.005444174166768789}\n",
      "neutral\n"
     ]
    }
   ],
   "source": [
    "text = \"Estou muito cansada, não aguento mais.\"\n",
    "\n",
    "nlp = spacy.load(PATH)\n",
    "demo = nlp(text)\n",
    "cats = demo.cats\n",
    "\n",
    "print(cats)\n",
    "\n",
    "if cats['positive'] > cats['negative'] and cats['positive'] > cats['neutral']:\n",
    "    print('positive')\n",
    "elif cats['negative'] > cats['negative']:\n",
    "    print('negative')\n",
    "else:\n",
    "    print('neutral')"
   ]
  }
 ],
 "metadata": {
  "kernelspec": {
   "display_name": "venv-am",
   "language": "python",
   "name": "python3"
  },
  "language_info": {
   "codemirror_mode": {
    "name": "ipython",
    "version": 3
   },
   "file_extension": ".py",
   "mimetype": "text/x-python",
   "name": "python",
   "nbconvert_exporter": "python",
   "pygments_lexer": "ipython3",
   "version": "3.9.12"
  }
 },
 "nbformat": 4,
 "nbformat_minor": 2
}
