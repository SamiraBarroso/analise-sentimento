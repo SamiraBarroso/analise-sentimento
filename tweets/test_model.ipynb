{
 "cells": [
  {
   "cell_type": "code",
   "execution_count": 3,
   "metadata": {},
   "outputs": [],
   "source": [
    "import os\n",
    "import spacy\n",
    "\n",
    "PATH = os.path.join(os.path.abspath(''), 'output/model-best')"
   ]
  },
  {
   "cell_type": "code",
   "execution_count": 4,
   "metadata": {},
   "outputs": [
    {
     "name": "stdout",
     "output_type": "stream",
     "text": [
      "{'positive': 0.004590935073792934, 'negative': 0.00605440279468894, 'neutral': 0.9893547296524048}\n",
      "neutral\n"
     ]
    }
   ],
   "source": [
    "text = \"acesso o link do eduroam para configurar no seu computador\"\n",
    "\n",
    "nlp = spacy.load(PATH)\n",
    "demo = nlp(text)\n",
    "cats = demo.cats\n",
    "\n",
    "print(cats)\n",
    "\n",
    "if cats['positive'] > cats['negative'] and cats['positive'] > cats['neutral']:\n",
    "    print('positive')\n",
    "elif cats['negative'] > cats['negative']:\n",
    "    print('negative')\n",
    "else:\n",
    "    print('neutral')"
   ]
  },
  {
   "cell_type": "code",
   "execution_count": 5,
   "metadata": {},
   "outputs": [
    {
     "name": "stdout",
     "output_type": "stream",
     "text": [
      "{'positive': 0.0037363539449870586, 'negative': 0.9928523898124695, 'neutral': 0.0034113258589059114}\n",
      "neutral\n"
     ]
    }
   ],
   "source": [
    "text = \"Estou muito cansada, não aguento mais.\"\n",
    "\n",
    "nlp = spacy.load(PATH)\n",
    "demo = nlp(text)\n",
    "cats = demo.cats\n",
    "\n",
    "print(cats)\n",
    "\n",
    "if cats['positive'] > cats['negative'] and cats['positive'] > cats['neutral']:\n",
    "    print('positive')\n",
    "elif cats['negative'] > cats['negative']:\n",
    "    print('negative')\n",
    "else:\n",
    "    print('neutral')"
   ]
  }
 ],
 "metadata": {
  "kernelspec": {
   "display_name": "venv-am",
   "language": "python",
   "name": "python3"
  },
  "language_info": {
   "codemirror_mode": {
    "name": "ipython",
    "version": 3
   },
   "file_extension": ".py",
   "mimetype": "text/x-python",
   "name": "python",
   "nbconvert_exporter": "python",
   "pygments_lexer": "ipython3",
   "version": "3.9.12"
  }
 },
 "nbformat": 4,
 "nbformat_minor": 2
}
