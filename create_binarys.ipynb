{
 "cells": [
  {
   "cell_type": "code",
   "execution_count": 1,
   "metadata": {},
   "outputs": [],
   "source": [
    "import os\n",
    "import spacy\n",
    "import pandas as pd\n",
    "from spacy.tokens import DocBin\n",
    "\n",
    "FILE = 'sentiments_twitter_filtrado.csv'\n",
    "\n",
    "PATH = os.path.join(os.path.abspath(''), f'data\\{FILE}')\n",
    "\n",
    "df = pd.read_csv(PATH)\n",
    "\n",
    "df['sentiment'].value_counts()\n",
    "\n",
    "df"
   ]
  },
  {
   "cell_type": "code",
   "execution_count": null,
   "metadata": {},
   "outputs": [],
   "source": [
    "train = df.groupby('sentiment').sample(df.groupby('sentiment').size().min()-49, random_state = 25)\n",
    "#test = df.groupby('sentiment').sample(frac=0.9, random_state = 9)\n",
    "#train = df.groupby('sentiment').sample(random_state = 9)\n",
    "test = df.drop(train.index)\n",
    "\n",
    "print(test.index)\n",
    "print(train.index)\n",
    "\n",
    "print(train.shape, test.shape)\n",
    "\n",
    "print(train['sentiment'].value_counts())\n",
    "print(test['sentiment'].value_counts())"
   ]
  },
  {
   "cell_type": "code",
   "execution_count": null,
   "metadata": {},
   "outputs": [],
   "source": [
    "train['tuples'] = train.apply(lambda row: (row['text'],row['sentiment']), axis=1)\n",
    "train = train['tuples'].tolist()\n",
    "test['tuples'] = test.apply(lambda row: (row['text'],row['sentiment']), axis=1)\n",
    "test = test['tuples'].tolist()\n",
    "train[0]"
   ]
  },
  {
   "cell_type": "code",
   "execution_count": null,
   "metadata": {},
   "outputs": [],
   "source": [
    "# User function for converting the train and test dataset into spaCy document\n",
    "\n",
    "nlp=spacy.load(\"pt_core_news_lg\")\n",
    "def document(data):\n",
    "#Creating empty list called \"text\"\n",
    "  text = []\n",
    "  for doc, label in nlp.pipe(data, as_tuples = True):\n",
    "    if (label=='positive'):\n",
    "      doc.cats['positive'] = 1\n",
    "      doc.cats['negative'] = 0\n",
    "      doc.cats['neutral']  = 0\n",
    "    elif (label=='negative'):\n",
    "      doc.cats['positive'] = 0\n",
    "      doc.cats['negative'] = 1\n",
    "      doc.cats['neutral']  = 0\n",
    "    else:\n",
    "      doc.cats['positive'] = 0\n",
    "      doc.cats['negative'] = 0\n",
    "      doc.cats['neutral']  = 1\n",
    "    #Adding the doc into the list 'text'\n",
    "    text.append(doc)\n",
    "  return(text)"
   ]
  },
  {
   "cell_type": "code",
   "execution_count": null,
   "metadata": {},
   "outputs": [],
   "source": [
    "#passing the train dataset into function 'document'\n",
    "train_docs = document(train)\n",
    "test_docs = document(test)\n",
    "\n",
    "#Creating binary document using DocBin function in spaCy\n",
    "doc_bin_train = DocBin(docs = train_docs)\n",
    "doc_bin_test = DocBin(docs = test_docs)\n",
    "\n",
    "#Saving the binary document as train.spacy\n",
    "doc_bin_train.to_disk(\"train.spacy\")\n",
    "doc_bin_test.to_disk(\"test.spacy\")"
   ]
  }
 ],
 "metadata": {
  "kernelspec": {
   "display_name": "venv-am",
   "language": "python",
   "name": "python3"
  },
  "language_info": {
   "codemirror_mode": {
    "name": "ipython",
    "version": 3
   },
   "file_extension": ".py",
   "mimetype": "text/x-python",
   "name": "python",
   "nbconvert_exporter": "python",
   "pygments_lexer": "ipython3",
   "version": "3.9.12"
  }
 },
 "nbformat": 4,
 "nbformat_minor": 2
}
